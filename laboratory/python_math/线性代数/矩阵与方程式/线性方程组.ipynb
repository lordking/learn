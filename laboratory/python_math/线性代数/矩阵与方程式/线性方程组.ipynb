{
 "cells": [
  {
   "cell_type": "markdown",
   "metadata": {},
   "source": [
    "## 1. 基础概念\n",
    "\n",
    "- 线性方程组`Linear Equations`\n",
    "\n",
    "$\n",
    "a_{11}x_1 + a_{12}x_2 + ... + a_{1n}x_n = b_1\n",
    "$\n",
    "\n",
    "- 线性相容`Consistent`: 线性方程组有解\n",
    "- 线性不相容`Inconsistent`: 线性方程组无解\n",
    "- 解集`Solution Set`: 线性方程组的所有解的集合称为方程组的解集。\n",
    "- 等价`Equivalent`: 若两个含义相同变量的方程组具有相同的解集，则称它们是等价的。"
   ]
  },
  {
   "cell_type": "code",
   "execution_count": null,
   "metadata": {},
   "outputs": [],
   "source": []
  }
 ],
 "metadata": {
  "kernelspec": {
   "display_name": "Python 3",
   "language": "python",
   "name": "python3"
  },
  "language_info": {
   "codemirror_mode": {
    "name": "ipython",
    "version": 3
   },
   "file_extension": ".py",
   "mimetype": "text/x-python",
   "name": "python",
   "nbconvert_exporter": "python",
   "pygments_lexer": "ipython3",
   "version": "3.7.3"
  }
 },
 "nbformat": 4,
 "nbformat_minor": 2
}
