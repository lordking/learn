{
 "cells": [
  {
   "cell_type": "markdown",
   "metadata": {},
   "source": [
    "## 解一元一次方程式: $ax + b = 0$\n",
    "\n",
    "举例：$2x + 2 = 0$"
   ]
  },
  {
   "cell_type": "markdown",
   "metadata": {},
   "source": [
    "### 1. 消元法求解"
   ]
  },
  {
   "cell_type": "code",
   "execution_count": 10,
   "metadata": {
    "scrolled": true
   },
   "outputs": [
    {
     "name": "stdout",
     "output_type": "stream",
     "text": [
      "求解过程:\n",
      "2*x + 2 = 0\n",
      "2*x = -2\n",
      "x = -1\n"
     ]
    }
   ],
   "source": [
    "from sympy import *\n",
    "from fractions import Fraction\n",
    "\n",
    "a = Fraction(2)\n",
    "b = Fraction(2)\n",
    "\n",
    "print(\"求解过程:\")\n",
    "\n",
    "# 形成方程式\n",
    "x = symbols('x')\n",
    "l_expr = a*x + b\n",
    "r_expr = 0\n",
    "print ('%s = %s' % (l_expr, r_expr))\n",
    "\n",
    "# 两边同时加上 -b\n",
    "l_expr = l_expr - b\n",
    "r_expr = r_expr - b\n",
    "print ('%s = %s' % (l_expr, r_expr))\n",
    "\n",
    "# 两边同时除以 a\n",
    "l_expr = l_expr/a\n",
    "r_expr = r_expr/a\n",
    "print('%s = %s' % (l_expr, r_expr))"
   ]
  },
  {
   "cell_type": "markdown",
   "metadata": {},
   "source": [
    "### 2. 使用函数求解"
   ]
  },
  {
   "cell_type": "code",
   "execution_count": 1,
   "metadata": {
    "scrolled": true
   },
   "outputs": [
    {
     "name": "stdout",
     "output_type": "stream",
     "text": [
      "求解过程:\n",
      "2*x + 2 = 0\n",
      "x = -1\n"
     ]
    }
   ],
   "source": [
    "from sympy import *\n",
    "from fractions import Fraction\n",
    "\n",
    "a = Fraction(2)\n",
    "b = Fraction(2)\n",
    "\n",
    "print(\"求解过程:\")\n",
    "\n",
    "# 形成方程式\n",
    "x = symbols('x')\n",
    "expr = a*x + b\n",
    "print('%s = %s' % (expr, 0))\n",
    "\n",
    "# 使用函数\n",
    "answer = solve(expr)\n",
    "print('%s = %s' % (x, answer[0]))"
   ]
  },
  {
   "cell_type": "markdown",
   "metadata": {},
   "source": [
    "### 3. 绘制图形"
   ]
  },
  {
   "cell_type": "code",
   "execution_count": 99,
   "metadata": {
    "scrolled": true
   },
   "outputs": [
    {
     "data": {
      "image/png": "[encoded data removed]",
      "text/plain": [
       "<Figure size 432x288 with 1 Axes>"
      ]
     },
     "metadata": {
      "needs_background": "light"
     },
     "output_type": "display_data"
    }
   ],
   "source": [
    "import numpy as np\n",
    "import matplotlib.pyplot as plt\n",
    "import matplotlib\n",
    "\n",
    "# 设置字体\n",
    "zhfont1 = matplotlib.font_manager.FontProperties(fname=\"../assets/fonts/SimHei.ttf\") \n",
    "\n",
    "# 开始画图\n",
    "plt.figure()\n",
    "\n",
    "# 设置标题\n",
    "plt.title(\"一元一次方程式\", fontproperties=zhfont1) \n",
    "plt.xlabel(\"X轴\", fontproperties=zhfont1)\n",
    "plt.ylabel(\"Y轴\", fontproperties=zhfont1)\n",
    "\n",
    "# 画X轴的刻度,范围是(0,5),个数是11\n",
    "plt.xticks(np.linspace(-5, 5, 11))\n",
    "plt.yticks(np.linspace(-5, 5, 11))\n",
    "\n",
    "# 绘制坐标轴\n",
    "ax = plt.gca()\n",
    "ax.spines['top'].set_color('none')\n",
    "ax.spines['left'].set_color('none')\n",
    "# ax.spines['right'].set_position(('data',0))\n",
    "ax.spines['bottom'].set_position(('data',0))\n",
    "\n",
    "\n",
    "# 画方程式\n",
    "x = np.linspace(-1, -1, 11)\n",
    "y = np.linspace(-5, 5, 11) \n",
    "plt.plot(x,y, 'r--')\n",
    "\n",
    "# 展现画图结果\n",
    "plt.show()"
   ]
  },
  {
   "cell_type": "code",
   "execution_count": null,
   "metadata": {},
   "outputs": [],
   "source": []
  }
 ],
 "metadata": {
  "kernelspec": {
   "display_name": "Python 3",
   "language": "python",
   "name": "python3"
  },
  "language_info": {
   "codemirror_mode": {
    "name": "ipython",
    "version": 3
   },
   "file_extension": ".py",
   "mimetype": "text/x-python",
   "name": "python",
   "nbconvert_exporter": "python",
   "pygments_lexer": "ipython3",
   "version": "3.7.3"
  }
 },
 "nbformat": 4,
 "nbformat_minor": 2
}
