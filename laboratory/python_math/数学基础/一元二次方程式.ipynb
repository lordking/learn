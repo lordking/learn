{
 "cells": [
  {
   "cell_type": "markdown",
   "metadata": {},
   "source": [
    "### 一元二次方程式\n",
    "\n",
    "$\n",
    "ax^2+bx+c=0\n",
    "$"
   ]
  },
  {
   "cell_type": "markdown",
   "metadata": {},
   "source": [
    "### 1. 配方法解题过程"
   ]
  },
  {
   "cell_type": "code",
   "execution_count": 25,
   "metadata": {},
   "outputs": [
    {
     "name": "stdout",
     "output_type": "stream",
     "text": [
      "解题过程：\n",
      "方程式: 3*x**2 - 10*x + 3 = 0\n",
      "\n",
      "移位: 3*x**2 - 10*x + 2 = -1\n",
      "\n",
      "配方成: 3*x**2 - 10*x + 227 = 224\n",
      "\n",
      "(x - 5/3)**2 = 16/9\n",
      "\n",
      "开平方: x - 5/3 = 4/3\n",
      "\n",
      "计算判别式: ∆ = b^2 + 4*a*c = 64\n",
      "We have 2 different real roots.\n",
      "\n",
      "解:\n",
      "x = 1/3\n",
      "x = 3\n"
     ]
    }
   ],
   "source": [
    "from sympy import *\n",
    "from fractions import Fraction\n",
    "\n",
    "x = symbols('x')\n",
    "\n",
    "a = Fraction(3)\n",
    "b = Fraction(-10)\n",
    "c = Fraction(3)\n",
    "\n",
    "print(\"解题过程：\")\n",
    "\n",
    "# 形成方程式\n",
    "l_expr = a * (x**2) + b * x + c\n",
    "r_expr = 0\n",
    "print(\"方程式: %s = %s\" % (l_expr, r_expr))\n",
    "\n",
    "# 移位\n",
    "l_expr = l_expr + (-c / a)\n",
    "r_expr = r_expr + (-c / a)\n",
    "print(\"\\n移位: %s = %s\" % (l_expr, r_expr))\n",
    "\n",
    "# 配方成(x+m)^2 = n\n",
    "l_expr = l_expr + (b / 2 * a)**2\n",
    "r_expr = r_expr + (b / 2 * a)**2\n",
    "print(\"\\n配方成: %s = %s\" % (l_expr, r_expr))\n",
    "\n",
    "l_expr = (x + b / (2 * a))**2\n",
    "r_expr = (b**2 - 4 * a * c) / (4 * (a**2))\n",
    "print(\"\\n%s = %s\" % (l_expr, r_expr))\n",
    "\n",
    "# 开平方\n",
    "l_expr = x + b / (2 * a)\n",
    "r_expr = sqrt(r_expr)\n",
    "print(\"\\n开平方: %s = %s\" % (l_expr, r_expr))\n",
    "\n",
    "# 计算判别式\n",
    "delta = b**2 - 4 * a * c\n",
    "print('\\n计算判别式: ∆ = b^2 + 4*a*c = %s' % delta)\n",
    "\n",
    "if delta > 0:\n",
    "    print('We have 2 different real roots.')\n",
    "elif delta == 0:\n",
    "    print('We have 2 same real roots.')\n",
    "else:\n",
    "    print('We have 2 different imaginary numbers.')\n",
    "\n",
    "# 求解\n",
    "print(\"\\n解:\")\n",
    "# delta !=0 开平方后右边表达式有正负两个值+/-, 所以临时存储方程式右边表达式\n",
    "r_temp = r_expr\n",
    "l_expr = l_expr - b / (2 * a)\n",
    "r_expr = -r_temp - b / (2 * a)\n",
    "print(\"%s = %s\" % (l_expr, r_expr))\n",
    "\n",
    "if (delta != 0):\n",
    "    r_expr = r_temp - b / (2 * a)\n",
    "    print(\"%s = %s\" % (l_expr, r_expr))\n"
   ]
  },
  {
   "cell_type": "markdown",
   "metadata": {},
   "source": [
    "### 2. 求根公式法的解题过程"
   ]
  },
  {
   "cell_type": "code",
   "execution_count": 27,
   "metadata": {},
   "outputs": [
    {
     "name": "stdout",
     "output_type": "stream",
     "text": [
      "解题过程：\n",
      "\n",
      "计算判别式: ∆ = b^2 + 4*a*c = 64\n",
      "We have 2 different real roots.\n",
      "\n",
      "解:\n",
      "x = 1/3\n",
      "x = 3\n"
     ]
    }
   ],
   "source": [
    "from sympy import *\n",
    "from fractions import Fraction\n",
    "\n",
    "x = symbols('x')\n",
    "\n",
    "a = Fraction(3)\n",
    "b = Fraction(-10)\n",
    "c = Fraction(3)\n",
    "\n",
    "print(\"解题过程：\")\n",
    "\n",
    "# 计算判别式\n",
    "delta = b**2 - 4 * a * c\n",
    "print('\\n计算判别式: ∆ = b^2 + 4*a*c = %s' % delta)\n",
    "\n",
    "if delta > 0:\n",
    "    print('We have 2 different real roots.')\n",
    "elif delta == 0:\n",
    "    print('We have 2 same real roots.')\n",
    "else:\n",
    "    print('We have 2 different imaginary numbers.')\n",
    "    \n",
    "print(\"\\n解:\")\n",
    "l_expr = x\n",
    "r_expr = (-b - sqrt(delta)) / (2 * a)\n",
    "print(\"%s = %s\" % (l_expr, r_expr))\n",
    "\n",
    "if delta != 0:\n",
    "    r_expr = (-b + sqrt(delta)) / (2 * a)\n",
    "    print(\"%s = %s\" % (l_expr, r_expr))"
   ]
  },
  {
   "cell_type": "markdown",
   "metadata": {},
   "source": [
    "### 3.十字相乘法"
   ]
  },
  {
   "cell_type": "code",
   "execution_count": 34,
   "metadata": {},
   "outputs": [
    {
     "name": "stdout",
     "output_type": "stream",
     "text": [
      "解题过程：\n",
      "[1, 3]\n",
      "[1, 3]\n"
     ]
    },
    {
     "ename": "TypeError",
     "evalue": "'int' object is not subscriptable",
     "output_type": "error",
     "traceback": [
      "\u001b[0;31m---------------------------------------------------------------------------\u001b[0m",
      "\u001b[0;31mTypeError\u001b[0m                                 Traceback (most recent call last)",
      "\u001b[0;32m<ipython-input-34-889d7b9b1808>\u001b[0m in \u001b[0;36m<module>\u001b[0;34m\u001b[0m\n\u001b[1;32m     20\u001b[0m \u001b[0;32mfor\u001b[0m \u001b[0mf1\u001b[0m \u001b[0;32min\u001b[0m \u001b[0maFactors\u001b[0m\u001b[0;34m:\u001b[0m\u001b[0;34m\u001b[0m\u001b[0;34m\u001b[0m\u001b[0m\n\u001b[1;32m     21\u001b[0m     \u001b[0;32mfor\u001b[0m \u001b[0mf2\u001b[0m \u001b[0;32min\u001b[0m \u001b[0mcFactors\u001b[0m\u001b[0;34m:\u001b[0m\u001b[0;34m\u001b[0m\u001b[0;34m\u001b[0m\u001b[0m\n\u001b[0;32m---> 22\u001b[0;31m         \u001b[0msum\u001b[0m \u001b[0;34m=\u001b[0m \u001b[0mf1\u001b[0m\u001b[0;34m[\u001b[0m\u001b[0;36m0\u001b[0m\u001b[0;34m]\u001b[0m \u001b[0;34m*\u001b[0m \u001b[0mf2\u001b[0m\u001b[0;34m[\u001b[0m\u001b[0;36m1\u001b[0m\u001b[0;34m]\u001b[0m \u001b[0;34m+\u001b[0m \u001b[0mf1\u001b[0m\u001b[0;34m[\u001b[0m\u001b[0;36m1\u001b[0m\u001b[0;34m]\u001b[0m \u001b[0;34m*\u001b[0m \u001b[0mf2\u001b[0m\u001b[0;34m[\u001b[0m\u001b[0;36m0\u001b[0m\u001b[0;34m]\u001b[0m\u001b[0;34m\u001b[0m\u001b[0;34m\u001b[0m\u001b[0m\n\u001b[0m\u001b[1;32m     23\u001b[0m         \u001b[0;32mif\u001b[0m \u001b[0msum\u001b[0m \u001b[0;34m==\u001b[0m \u001b[0mb\u001b[0m\u001b[0;34m:\u001b[0m\u001b[0;34m\u001b[0m\u001b[0;34m\u001b[0m\u001b[0m\n\u001b[1;32m     24\u001b[0m             \u001b[0mprint\u001b[0m\u001b[0;34m(\u001b[0m\u001b[0mf1\u001b[0m\u001b[0;34m,\u001b[0m \u001b[0mf2\u001b[0m\u001b[0;34m)\u001b[0m\u001b[0;34m\u001b[0m\u001b[0;34m\u001b[0m\u001b[0m\n",
      "\u001b[0;31mTypeError\u001b[0m: 'int' object is not subscriptable"
     ]
    }
   ],
   "source": [
    "from sympy import *\n",
    "from fractions import Fraction\n",
    "\n",
    "x = symbols('x')\n",
    "\n",
    "a = 3\n",
    "b = -10\n",
    "c = 3\n",
    "\n",
    "print(\"解题过程：\")\n",
    "\n",
    "def getFactors(num):\n",
    "    return [i for i in range(1, num+1) if num % i==0]\n",
    "\n",
    "aFactors = getFactors(a)\n",
    "cFactors = getFactors(c)\n",
    "print(aFactors)\n",
    "print(cFactors)\n",
    "\n",
    "for f1 in aFactors:\n",
    "    for f2 in cFactors:\n",
    "        sum = f1[0] * f2[1] + f1[1] * f2[0]\n",
    "        if sum == b:\n",
    "            print(f1, f2)"
   ]
  },
  {
   "cell_type": "markdown",
   "metadata": {},
   "source": [
    "### 4. 直接计算方程式结果"
   ]
  },
  {
   "cell_type": "code",
   "execution_count": 28,
   "metadata": {},
   "outputs": [
    {
     "name": "stdout",
     "output_type": "stream",
     "text": [
      "\n",
      "方程式: 3*x**2 - 10*x + 3 = 0\n",
      "\n",
      "解:\n",
      "x = 1/3\n",
      "x = 3\n"
     ]
    }
   ],
   "source": [
    "expr = a * (x**2) + b * x + c\n",
    "print(\"\\n方程式: %s = %s\" % (expr, 0))\n",
    "\n",
    "print(\"\\n解:\")\n",
    "answers = solve(expr)\n",
    "for answer in answers:\n",
    "    print(\"%s = %s\" % (x, answer))"
   ]
  },
  {
   "cell_type": "code",
   "execution_count": null,
   "metadata": {},
   "outputs": [],
   "source": []
  }
 ],
 "metadata": {
  "kernelspec": {
   "display_name": "Python 3",
   "language": "python",
   "name": "python3"
  },
  "language_info": {
   "codemirror_mode": {
    "name": "ipython",
    "version": 3
   },
   "file_extension": ".py",
   "mimetype": "text/x-python",
   "name": "python",
   "nbconvert_exporter": "python",
   "pygments_lexer": "ipython3",
   "version": "3.7.3"
  }
 },
 "nbformat": 4,
 "nbformat_minor": 2
}
