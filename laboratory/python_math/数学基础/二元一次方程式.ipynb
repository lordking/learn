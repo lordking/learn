{
 "cells": [
  {
   "cell_type": "markdown",
   "metadata": {},
   "source": [
    "## 解二元一次方程式\n",
    "\n",
    "$\n",
    "\\begin{aligned}\n",
    "x+y=3 \\\\\n",
    "y=4\n",
    "\\end{aligned}\n",
    "$"
   ]
  },
  {
   "cell_type": "code",
   "execution_count": 27,
   "metadata": {},
   "outputs": [
    {
     "name": "stdout",
     "output_type": "stream",
     "text": [
      "最终结果:\n",
      "{x: -1, y: 4}\n"
     ]
    }
   ],
   "source": [
    "from sympy import *\n",
    "\n",
    "x= Symbol('x')\n",
    "y = Symbol('y')\n",
    "\n",
    "expr1 = x + y - 3\n",
    "expr2 = y - 4\n",
    "\n",
    "print(\"最终结果:\")\n",
    "print(solve([expr1,expr2],[x,y]))"
   ]
  },
  {
   "cell_type": "code",
   "execution_count": null,
   "metadata": {},
   "outputs": [],
   "source": []
  }
 ],
 "metadata": {
  "kernelspec": {
   "display_name": "Python 3",
   "language": "python",
   "name": "python3"
  },
  "language_info": {
   "codemirror_mode": {
    "name": "ipython",
    "version": 3
   },
   "file_extension": ".py",
   "mimetype": "text/x-python",
   "name": "python",
   "nbconvert_exporter": "python",
   "pygments_lexer": "ipython3",
   "version": "3.7.3"
  }
 },
 "nbformat": 4,
 "nbformat_minor": 4
}
